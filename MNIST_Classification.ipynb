{
  "nbformat": 4,
  "nbformat_minor": 0,
  "metadata": {
    "colab": {
      "name": "MNIST_Classification.ipynb",
      "provenance": [],
      "collapsed_sections": [],
      "authorship_tag": "ABX9TyNJ88F5RbABCrefsbp4LbbX",
      "include_colab_link": true
    },
    "kernelspec": {
      "name": "python3",
      "display_name": "Python 3"
    },
    "language_info": {
      "name": "python"
    },
    "accelerator": "GPU"
  },
  "cells": [
    {
      "cell_type": "markdown",
      "metadata": {
        "id": "view-in-github",
        "colab_type": "text"
      },
      "source": [
        "<a href=\"https://colab.research.google.com/github/Jeongye/RAMI/blob/main/MNIST_Classification.ipynb\" target=\"_parent\"><img src=\"https://colab.research.google.com/assets/colab-badge.svg\" alt=\"Open In Colab\"/></a>"
      ]
    },
    {
      "cell_type": "code",
      "metadata": {
        "colab": {
          "base_uri": "https://localhost:8080/"
        },
        "id": "XfsweEmInQz1",
        "outputId": "9759bf1c-d8e0-4e7d-e22c-e774c675291c"
      },
      "source": [
        "import torch\n",
        "import random\n",
        "import numpy as np\n",
        "import torch.nn as nn\n",
        "import torch.optim as optim\n",
        "import matplotlib.pyplot as plt\n",
        "from torchvision import datasets, transforms\n",
        "from torch.utils.data import DataLoader\n",
        "from sklearn.metrics import confusion_matrix\n",
        "\n",
        "\n",
        "USE_CUDA = torch.cuda.is_available()\n",
        "device = torch.device(\"cuda\" if USE_CUDA else \"cpu\")\n",
        "print(\"다음 기기로 학습합니다:\", device)\n",
        "\n",
        "random.seed(16)\n",
        "torch.manual_seed(16)\n",
        "if device == 'cuda':\n",
        "  torch.cuda.manual_seed_all(16)\n",
        "\n",
        "# hyperparameter\n",
        "training_epochs = 25\n",
        "batch_size = 256"
      ],
      "execution_count": 33,
      "outputs": [
        {
          "output_type": "stream",
          "text": [
            "다음 기기로 학습합니다: cuda\n"
          ],
          "name": "stdout"
        }
      ]
    },
    {
      "cell_type": "code",
      "metadata": {
        "colab": {
          "base_uri": "https://localhost:8080/"
        },
        "id": "GcDgW_vvsnXY",
        "outputId": "5f51d6a0-4329-433c-b0dc-d7a463ac85d8"
      },
      "source": [
        "mnist_train = datasets.MNIST(root='MNIST_data/',\n",
        "                             train=True,\n",
        "                             transform=transforms.ToTensor(),\n",
        "                             download=True)\n",
        "mnist_test = datasets.MNIST(root='MNIST_data/',\n",
        "                            train=False,\n",
        "                            transform=transforms.ToTensor(),\n",
        "                            download=True)\n",
        "\n",
        "data_loader = DataLoader(dataset=mnist_train, batch_size=batch_size, shuffle=True, drop_last=True)\n",
        "\n",
        "print(\"len(data_loader)\", len(data_loader))"
      ],
      "execution_count": 34,
      "outputs": [
        {
          "output_type": "stream",
          "text": [
            "len(data_loader) 234\n"
          ],
          "name": "stdout"
        }
      ]
    },
    {
      "cell_type": "code",
      "metadata": {
        "id": "ZmyhVpLIKAhY"
      },
      "source": [
        "model = nn.Sequential(\n",
        "    nn.Linear(784, 350),\n",
        "    nn.ReLU(),\n",
        "    nn.Linear(350, 100),\n",
        "    nn.ReLU(),\n",
        "    nn.Linear(100, 50),\n",
        "    nn.Sigmoid(),\n",
        "    nn.Linear(50, 10),\n",
        ").to(device)\n",
        "\n",
        "criterion = nn.CrossEntropyLoss().to(device)\n",
        "optimizer = torch.optim.SGD(model.parameters(), lr=0.5)"
      ],
      "execution_count": 35,
      "outputs": []
    },
    {
      "cell_type": "code",
      "metadata": {
        "colab": {
          "base_uri": "https://localhost:8080/"
        },
        "id": "KGx6-lR-NF0U",
        "outputId": "14c663a3-e496-403e-ac97-96e32f436a9a"
      },
      "source": [
        "for epoch in range(training_epochs):\n",
        "  total_cost = 0\n",
        "\n",
        "  for X, Y in data_loader:\n",
        "    X = X.view(-1, 28 ** 2).to(device)\n",
        "    Y = Y.to(device)\n",
        "\n",
        "    optimizer.zero_grad()\n",
        "    hypothesis = model(X)\n",
        "    cost = criterion(hypothesis, Y)\n",
        "    cost.backward()\n",
        "    total_cost += cost\n",
        "    optimizer.step()\n",
        "  \n",
        "  print('Epoch:', '%04d' % (epoch + 1), 'cost =', '{:.9f}'.format(total_cost / batch_size))"
      ],
      "execution_count": 36,
      "outputs": [
        {
          "output_type": "stream",
          "text": [
            "Epoch: 0001 cost = 1.146046162\n",
            "Epoch: 0002 cost = 0.286270440\n",
            "Epoch: 0003 cost = 0.163674057\n",
            "Epoch: 0004 cost = 0.119318269\n",
            "Epoch: 0005 cost = 0.092329897\n",
            "Epoch: 0006 cost = 0.092604473\n",
            "Epoch: 0007 cost = 0.063091524\n",
            "Epoch: 0008 cost = 0.050786197\n",
            "Epoch: 0009 cost = 0.041864898\n",
            "Epoch: 0010 cost = 0.036266603\n",
            "Epoch: 0011 cost = 0.028885309\n",
            "Epoch: 0012 cost = 0.023673240\n",
            "Epoch: 0013 cost = 0.020324515\n",
            "Epoch: 0014 cost = 0.017191213\n",
            "Epoch: 0015 cost = 0.013907249\n",
            "Epoch: 0016 cost = 0.011882787\n",
            "Epoch: 0017 cost = 0.009086655\n",
            "Epoch: 0018 cost = 0.007629980\n",
            "Epoch: 0019 cost = 0.006263876\n",
            "Epoch: 0020 cost = 0.005219025\n",
            "Epoch: 0021 cost = 0.004376155\n",
            "Epoch: 0022 cost = 0.003927168\n",
            "Epoch: 0023 cost = 0.003217403\n",
            "Epoch: 0024 cost = 0.002880258\n",
            "Epoch: 0025 cost = 0.002600817\n"
          ],
          "name": "stdout"
        }
      ]
    },
    {
      "cell_type": "code",
      "metadata": {
        "colab": {
          "base_uri": "https://localhost:8080/"
        },
        "id": "wGmygWRUhomM",
        "outputId": "7b03a960-ffbc-41c7-a7bd-f508f396892e"
      },
      "source": [
        "# evaluate model with test dataset\n",
        "def cm(y, y_pred):\n",
        "  return confusion_matrix(y.cpu(), y_pred.cpu())\n",
        "\n",
        "with torch.no_grad():\n",
        "  X_test = mnist_test.test_data.view(-1, 28 ** 2).float().to(device)\n",
        "  Y_test = mnist_test.test_labels.to(device)\n",
        "\n",
        "  prediction = model(X_test)\n",
        "  y_pred = torch.argmax(prediction, 1).to(device)\n",
        "\n",
        "  print(cm(Y_test, y_pred))\n",
        "\n",
        "  correct = 0\n",
        "  for i in range(10):\n",
        "    correct += cm(Y_test, y_pred)[i][i]\n",
        "\n",
        "print(\"Accuracy: {:.2f}%\".format(correct / len(X_test) * 100))"
      ],
      "execution_count": 38,
      "outputs": [
        {
          "output_type": "stream",
          "text": [
            "[[ 973    0    1    0    0    1    1    2    1    1]\n",
            " [   0 1128    2    2    0    0    1    0    2    0]\n",
            " [   1    1 1012    7    2    0    2    5    2    0]\n",
            " [   0    0    3 1000    0    1    0    2    3    1]\n",
            " [   1    1    3    0  954    0    4    5    1   13]\n",
            " [   7    1    0   22    2  849    5    0    4    2]\n",
            " [   7    2    4    0    2    3  940    0    0    0]\n",
            " [   1    2    5    3    0    0    0 1014    1    2]\n",
            " [   3    1    8   17    1    1    2    4  934    3]\n",
            " [   2    2    0    9    5    0    0   18    0  973]]\n",
            "Accuracy: 97.77%\n"
          ],
          "name": "stdout"
        },
        {
          "output_type": "stream",
          "text": [
            "/usr/local/lib/python3.7/dist-packages/torchvision/datasets/mnist.py:69: UserWarning: test_data has been renamed data\n",
            "  warnings.warn(\"test_data has been renamed data\")\n",
            "/usr/local/lib/python3.7/dist-packages/torchvision/datasets/mnist.py:59: UserWarning: test_labels has been renamed targets\n",
            "  warnings.warn(\"test_labels has been renamed targets\")\n"
          ],
          "name": "stderr"
        }
      ]
    },
    {
      "cell_type": "code",
      "metadata": {
        "colab": {
          "base_uri": "https://localhost:8080/",
          "height": 1000
        },
        "id": "oDxJZ8kmtSTT",
        "outputId": "927fd664-75e2-441e-fed0-73d198e6c816"
      },
      "source": [
        "i = 0\n",
        "for i in range(25):\n",
        "  r = random.randint(0, len(mnist_test) - 1)\n",
        "  X_single_data = mnist_test.test_data[r:r + 1].view(-1, 28 ** 2).float().to(device)\n",
        "  Y_single_data = mnist_test.test_labels[r:r + 1].to(device)\n",
        "  print('Label:', Y_single_data.item())\n",
        "  single_prediction = model(X_single_data)\n",
        "  print('Prediction:', torch.argmax(single_prediction, 1).item())\n",
        "  plt.imshow(mnist_test.test_data[r:r + 1].view(28, 28), cmap='Greys', interpolation='nearest')\n",
        "  plt.show()\n",
        "  print(\" \")"
      ],
      "execution_count": 39,
      "outputs": [
        {
          "output_type": "stream",
          "text": [
            "Label: 4\n",
            "Prediction: 4\n"
          ],
          "name": "stdout"
        },
        {
          "output_type": "stream",
          "text": [
            "/usr/local/lib/python3.7/dist-packages/torchvision/datasets/mnist.py:69: UserWarning: test_data has been renamed data\n",
            "  warnings.warn(\"test_data has been renamed data\")\n",
            "/usr/local/lib/python3.7/dist-packages/torchvision/datasets/mnist.py:59: UserWarning: test_labels has been renamed targets\n",
            "  warnings.warn(\"test_labels has been renamed targets\")\n"
          ],
          "name": "stderr"
        },
        {
          "output_type": "display_data",
          "data": {
            "image/png": "[encoded data removed]",
            "text/plain": [
              "<Figure size 432x288 with 1 Axes>"
            ]
          },
          "metadata": {
            "tags": [],
            "needs_background": "light"
          }
        },
        {
          "output_type": "stream",
          "text": [
            " \n",
            "Label: 2\n",
            "Prediction: 2\n"
          ],
          "name": "stdout"
        },
        {
          "output_type": "display_data",
          "data": {
            "image/png": "[encoded data removed]",
            "text/plain": [
              "<Figure size 432x288 with 1 Axes>"
            ]
          },
          "metadata": {
            "tags": [],
            "needs_background": "light"
          }
        },
        {
          "output_type": "stream",
          "text": [
            " \n",
            "Label: 8\n",
            "Prediction: 8\n"
          ],
          "name": "stdout"
        },
        {
          "output_type": "display_data",
          "data": {
            "image/png": "[encoded data removed]",
            "text/plain": [
              "<Figure size 432x288 with 1 Axes>"
            ]
          },
          "metadata": {
            "tags": [],
            "needs_background": "light"
          }
        },
        {
          "output_type": "stream",
          "text": [
            " \n",
            "Label: 2\n",
            "Prediction: 2\n"
          ],
          "name": "stdout"
        },
        {
          "output_type": "display_data",
          "data": {
            "image/png": "[encoded data removed]",
            "text/plain": [
              "<Figure size 432x288 with 1 Axes>"
            ]
          },
          "metadata": {
            "tags": [],
            "needs_background": "light"
          }
        },
        {
          "output_type": "stream",
          "text": [
            " \n",
            "Label: 2\n",
            "Prediction: 2\n"
          ],
          "name": "stdout"
        },
        {
          "output_type": "display_data",
          "data": {
            "image/png": "[encoded data removed]",
            "text/plain": [
              "<Figure size 432x288 with 1 Axes>"
            ]
          },
          "metadata": {
            "tags": [],
            "needs_background": "light"
          }
        },
        {
          "output_type": "stream",
          "text": [
            " \n",
            "Label: 7\n",
            "Prediction: 7\n"
          ],
          "name": "stdout"
        },
        {
          "output_type": "display_data",
          "data": {
            "image/png": "[encoded data removed]",
            "text/plain": [
              "<Figure size 432x288 with 1 Axes>"
            ]
          },
          "metadata": {
            "tags": [],
            "needs_background": "light"
          }
        },
        {
          "output_type": "stream",
          "text": [
            " \n",
            "Label: 1\n",
            "Prediction: 1\n"
          ],
          "name": "stdout"
        },
        {
          "output_type": "display_data",
          "data": {
            "image/png": "[encoded data removed]",
            "text/plain": [
              "<Figure size 432x288 with 1 Axes>"
            ]
          },
          "metadata": {
            "tags": [],
            "needs_background": "light"
          }
        },
        {
          "output_type": "stream",
          "text": [
            " \n",
            "Label: 4\n",
            "Prediction: 4\n"
          ],
          "name": "stdout"
        },
        {
          "output_type": "display_data",
          "data": {
            "image/png": "[encoded data removed]",
            "text/plain": [
              "<Figure size 432x288 with 1 Axes>"
            ]
          },
          "metadata": {
            "tags": [],
            "needs_background": "light"
          }
        },
        {
          "output_type": "stream",
          "text": [
            " \n",
            "Label: 8\n",
            "Prediction: 8\n"
          ],
          "name": "stdout"
        },
        {
          "output_type": "display_data",
          "data": {
            "image/png": "[encoded data removed]",
            "text/plain": [
              "<Figure size 432x288 with 1 Axes>"
            ]
          },
          "metadata": {
            "tags": [],
            "needs_background": "light"
          }
        },
        {
          "output_type": "stream",
          "text": [
            " \n",
            "Label: 0\n",
            "Prediction: 0\n"
          ],
          "name": "stdout"
        },
        {
          "output_type": "display_data",
          "data": {
            "image/png": "[encoded data removed]",
            "text/plain": [
              "<Figure size 432x288 with 1 Axes>"
            ]
          },
          "metadata": {
            "tags": [],
            "needs_background": "light"
          }
        },
        {
          "output_type": "stream",
          "text": [
            " \n",
            "Label: 3\n",
            "Prediction: 3\n"
          ],
          "name": "stdout"
        },
        {
          "output_type": "display_data",
          "data": {
            "image/png": "[encoded data removed]",
            "text/plain": [
              "<Figure size 432x288 with 1 Axes>"
            ]
          },
          "metadata": {
            "tags": [],
            "needs_background": "light"
          }
        },
        {
          "output_type": "stream",
          "text": [
            " \n",
            "Label: 8\n",
            "Prediction: 8\n"
          ],
          "name": "stdout"
        },
        {
          "output_type": "display_data",
          "data": {
            "image/png": "[encoded data removed]",
            "text/plain": [
              "<Figure size 432x288 with 1 Axes>"
            ]
          },
          "metadata": {
            "tags": [],
            "needs_background": "light"
          }
        },
        {
          "output_type": "stream",
          "text": [
            " \n",
            "Label: 5\n",
            "Prediction: 5\n"
          ],
          "name": "stdout"
        },
        {
          "output_type": "display_data",
          "data": {
            "image/png": "[encoded data removed]",
            "text/plain": [
              "<Figure size 432x288 with 1 Axes>"
            ]
          },
          "metadata": {
            "tags": [],
            "needs_background": "light"
          }
        },
        {
          "output_type": "stream",
          "text": [
            " \n",
            "Label: 1\n",
            "Prediction: 1\n"
          ],
          "name": "stdout"
        },
        {
          "output_type": "display_data",
          "data": {
            "image/png": "[encoded data removed]",
            "text/plain": [
              "<Figure size 432x288 with 1 Axes>"
            ]
          },
          "metadata": {
            "tags": [],
            "needs_background": "light"
          }
        },
        {
          "output_type": "stream",
          "text": [
            " \n",
            "Label: 8\n",
            "Prediction: 8\n"
          ],
          "name": "stdout"
        },
        {
          "output_type": "display_data",
          "data": {
            "image/png": "[encoded data removed]",
            "text/plain": [
              "<Figure size 432x288 with 1 Axes>"
            ]
          },
          "metadata": {
            "tags": [],
            "needs_background": "light"
          }
        },
        {
          "output_type": "stream",
          "text": [
            " \n",
            "Label: 8\n",
            "Prediction: 8\n"
          ],
          "name": "stdout"
        },
        {
          "output_type": "display_data",
          "data": {
            "image/png": "[encoded data removed]",
            "text/plain": [
              "<Figure size 432x288 with 1 Axes>"
            ]
          },
          "metadata": {
            "tags": [],
            "needs_background": "light"
          }
        },
        {
          "output_type": "stream",
          "text": [
            " \n",
            "Label: 7\n",
            "Prediction: 7\n"
          ],
          "name": "stdout"
        },
        {
          "output_type": "display_data",
          "data": {
            "image/png": "[encoded data removed]",
            "text/plain": [
              "<Figure size 432x288 with 1 Axes>"
            ]
          },
          "metadata": {
            "tags": [],
            "needs_background": "light"
          }
        },
        {
          "output_type": "stream",
          "text": [
            " \n",
            "Label: 7\n",
            "Prediction: 7\n"
          ],
          "name": "stdout"
        },
        {
          "output_type": "display_data",
          "data": {
            "image/png": "[encoded data removed]",
            "text/plain": [
              "<Figure size 432x288 with 1 Axes>"
            ]
          },
          "metadata": {
            "tags": [],
            "needs_background": "light"
          }
        },
        {
          "output_type": "stream",
          "text": [
            " \n",
            "Label: 9\n",
            "Prediction: 9\n"
          ],
          "name": "stdout"
        },
        {
          "output_type": "display_data",
          "data": {
            "image/png": "[encoded data removed]",
            "text/plain": [
              "<Figure size 432x288 with 1 Axes>"
            ]
          },
          "metadata": {
            "tags": [],
            "needs_background": "light"
          }
        },
        {
          "output_type": "stream",
          "text": [
            " \n",
            "Label: 2\n",
            "Prediction: 2\n"
          ],
          "name": "stdout"
        },
        {
          "output_type": "display_data",
          "data": {
            "image/png": "[encoded data removed]",
            "text/plain": [
              "<Figure size 432x288 with 1 Axes>"
            ]
          },
          "metadata": {
            "tags": [],
            "needs_background": "light"
          }
        },
        {
          "output_type": "stream",
          "text": [
            " \n",
            "Label: 4\n",
            "Prediction: 4\n"
          ],
          "name": "stdout"
        },
        {
          "output_type": "display_data",
          "data": {
            "image/png": "[encoded data removed]",
            "text/plain": [
              "<Figure size 432x288 with 1 Axes>"
            ]
          },
          "metadata": {
            "tags": [],
            "needs_background": "light"
          }
        },
        {
          "output_type": "stream",
          "text": [
            " \n",
            "Label: 1\n",
            "Prediction: 1\n"
          ],
          "name": "stdout"
        },
        {
          "output_type": "display_data",
          "data": {
            "image/png": "[encoded data removed]",
            "text/plain": [
              "<Figure size 432x288 with 1 Axes>"
            ]
          },
          "metadata": {
            "tags": [],
            "needs_background": "light"
          }
        },
        {
          "output_type": "stream",
          "text": [
            " \n",
            "Label: 1\n",
            "Prediction: 1\n"
          ],
          "name": "stdout"
        },
        {
          "output_type": "display_data",
          "data": {
            "image/png": "[encoded data removed]",
            "text/plain": [
              "<Figure size 432x288 with 1 Axes>"
            ]
          },
          "metadata": {
            "tags": [],
            "needs_background": "light"
          }
        },
        {
          "output_type": "stream",
          "text": [
            " \n",
            "Label: 5\n",
            "Prediction: 5\n"
          ],
          "name": "stdout"
        },
        {
          "output_type": "display_data",
          "data": {
            "image/png": "[encoded data removed]",
            "text/plain": [
              "<Figure size 432x288 with 1 Axes>"
            ]
          },
          "metadata": {
            "tags": [],
            "needs_background": "light"
          }
        },
        {
          "output_type": "stream",
          "text": [
            " \n",
            "Label: 3\n",
            "Prediction: 3\n"
          ],
          "name": "stdout"
        },
        {
          "output_type": "display_data",
          "data": {
            "image/png": "[encoded data removed]",
            "text/plain": [
              "<Figure size 432x288 with 1 Axes>"
            ]
          },
          "metadata": {
            "tags": [],
            "needs_background": "light"
          }
        },
        {
          "output_type": "stream",
          "text": [
            " \n"
          ],
          "name": "stdout"
        }
      ]
    }
  ]
}